{
 "cells": [
  {
   "cell_type": "code",
   "execution_count": 1,
   "id": "0d0ac3b2",
   "metadata": {},
   "outputs": [],
   "source": [
    "from math import *"
   ]
  },
  {
   "cell_type": "code",
   "execution_count": 2,
   "id": "72b410f7",
   "metadata": {},
   "outputs": [],
   "source": [
    "# old values for constants of nature that reproduce the digits in CoRE tables.\n",
    "# Taken from BNSInspiralComparison's PWP4EOS.m file.\n",
    "\n",
    "G = 6.67300e-8      # cm^3 g^-1 s^-2\n",
    "c = 2.99792458e+10  # cm/sec\n",
    "\n",
    "Msun = 1.98892e33   # g"
   ]
  },
  {
   "cell_type": "markdown",
   "id": "d59220d3",
   "metadata": {},
   "source": [
    "## SLy EOS"
   ]
  },
  {
   "cell_type": "code",
   "execution_count": 3,
   "id": "edded5f0",
   "metadata": {},
   "outputs": [],
   "source": [
    "Gamma1 = 3.005\n",
    "Gamma2 = 2.988\n",
    "Gamma3 = 2.851\n",
    "logP1 = 34.384 # dyne/cm^2\n",
    "\n",
    "rho1 = 10**14.7  # Read et al.\n",
    "rho2 = 10**15.   # Read et al.\n",
    "\n",
    "GammaCrust = 1.35692\n",
    "\n",
    "\"\"\" don't use\n",
    "\n",
    "# Error in original literature (Read et al.)\n",
    "KCrust = 3.99874e-8 # such that KCrust rho**GammaCrust is dyn/cm^2, Note error in original literature (!)\n",
    "\n",
    "# From Read et al. Phys. Rev. D 79, 124033 – Published 22 June 2009\n",
    "# which states \"The crust is modeled with a single polytrope region,\n",
    "# fitted to a tabulated crust EOS, for the region above neutron drip.\n",
    "# The polytrope has GammaCrust=1.3569, with Kcrust chosen so that\n",
    "# P=1.5689e31 dyn cm−2 when rho=1e13  g cm−3.\"\n",
    "# This results in a large Kcrust differernt (1e-5 vs 1e13 order of\n",
    "# mag and different digits)\n",
    "KCrust = 1.5689e31/1e13**GammaCrust\n",
    "print(KCrust/1e13)\n",
    "\n",
    "\"\"\"\n",
    "\n",
    "# from Phys.Rev.D80:124004,2009 section D.2. \"Choice of the parameters\" \"The lower density interval approx-\n",
    "# imates the known subnuclear density EOS, the fixed crust EOS, around 0.1ρnuc~ρnuc by setting (Γ0 , K0 ) =\n",
    "# (1.35692, 3.59389 × 10^13)\"\n",
    "KCrust = 3.59389e13"
   ]
  },
  {
   "cell_type": "code",
   "execution_count": 4,
   "id": "c237d644",
   "metadata": {},
   "outputs": [],
   "source": [
    "P1 = 10**logP1"
   ]
  },
  {
   "cell_type": "code",
   "execution_count": 5,
   "id": "23177819",
   "metadata": {},
   "outputs": [],
   "source": [
    "K1 = P1/rho1**Gamma1               # from P1 is pressure at rho1"
   ]
  },
  {
   "cell_type": "code",
   "execution_count": 6,
   "id": "29f09fd7",
   "metadata": {},
   "outputs": [],
   "source": [
    "K2 = K1 * rho1**(Gamma1 - Gamma2)  # from pressure continuous at rho1\n",
    "K3 = K2 * rho2**(Gamma2 - Gamma3)  # from pressure continuous at rho2"
   ]
  },
  {
   "cell_type": "code",
   "execution_count": 7,
   "id": "ed62bc07",
   "metadata": {},
   "outputs": [],
   "source": [
    "# attach lowest density segment to crust at intersection point\n",
    "# KCrust rho0**GammaCrust = K1 rho0**Gamma1\n",
    "# <=> rho0**(GammaCrust - Gamma1) = K1/KCrust\n",
    "# <=>\n",
    "rho0 = (K1/KCrust)**(1/(GammaCrust - Gamma1))"
   ]
  },
  {
   "cell_type": "code",
   "execution_count": 8,
   "id": "4fdebbd1",
   "metadata": {},
   "outputs": [
    {
     "name": "stdout",
     "output_type": "stream",
     "text": [
      "14.165007026543973\n"
     ]
    }
   ],
   "source": [
    "print(log10(rho0))"
   ]
  },
  {
   "cell_type": "markdown",
   "id": "6c06aa4c",
   "metadata": {},
   "source": [
    "## Conversion to geometric units"
   ]
  },
  {
   "cell_type": "code",
   "execution_count": 9,
   "id": "239df3f2",
   "metadata": {},
   "outputs": [
    {
     "name": "stdout",
     "output_type": "stream",
     "text": [
      "0.00023674499879939537\n"
     ]
    }
   ],
   "source": [
    "r0 = rho0 / Msun * (Msun*G/c**2)**3\n",
    "print(r0)"
   ]
  },
  {
   "cell_type": "code",
   "execution_count": 10,
   "id": "68125d93",
   "metadata": {},
   "outputs": [
    {
     "name": "stdout",
     "output_type": "stream",
     "text": [
      "0.0008114724630501216\n"
     ]
    }
   ],
   "source": [
    "r1 = rho1  / Msun * (Msun*G/c**2)**3\n",
    "print(r1)"
   ]
  },
  {
   "cell_type": "code",
   "execution_count": 11,
   "id": "52104939",
   "metadata": {},
   "outputs": [
    {
     "name": "stdout",
     "output_type": "stream",
     "text": [
      "0.001619100425158887\n"
     ]
    }
   ],
   "source": [
    "r2 = rho2  / Msun * (Msun*G/c**2)**3\n",
    "print(r2)"
   ]
  },
  {
   "cell_type": "code",
   "execution_count": 12,
   "id": "b3e035a5",
   "metadata": {},
   "outputs": [],
   "source": [
    "# units of the Ks are such that pressure is dyn/cm^2 or\n",
    "# force/length^2 which is 1/length^2 is geometric units\n",
    "\n",
    "# P = K rho**Gamma = K rho_unit**Gamma (rho/rho_unit)**Gamma\n",
    "# P/P_unit = K rho_unit**Gamma/P_unit (rho/rho_unit)**Gamma\n",
    "\n",
    "# rho_unit = Msun / (Msun*G/c**2)**3\n",
    "# P_unit = Msun * (Msun*G/c**2) / (Msun*G/c**3)**2 / (Msun*G/c**2)**2\n",
    "#           g         cm                s**2              cm**2\n",
    "\n",
    "rho_unit = Msun / (Msun*G/c**2)**3\n",
    "P_unit = Msun * (Msun*G/c**2) / (Msun*G/c**3)**2 / (Msun*G/c**2)**2"
   ]
  },
  {
   "cell_type": "code",
   "execution_count": 13,
   "id": "66517c29",
   "metadata": {},
   "outputs": [
    {
     "name": "stdout",
     "output_type": "stream",
     "text": [
      "0.08949306339299425\n"
     ]
    }
   ],
   "source": [
    "k0 = KCrust * (rho_unit**GammaCrust/P_unit)\n",
    "print(k0)"
   ]
  },
  {
   "cell_type": "code",
   "execution_count": 14,
   "id": "480f05ed",
   "metadata": {},
   "outputs": [
    {
     "name": "stdout",
     "output_type": "stream",
     "text": [
      "84579.41004700682\n"
     ]
    }
   ],
   "source": [
    "k1 = K1 * (rho_unit**Gamma1/P_unit)\n",
    "print(k1)"
   ]
  },
  {
   "cell_type": "code",
   "execution_count": 15,
   "id": "958abe04",
   "metadata": {},
   "outputs": [
    {
     "name": "stdout",
     "output_type": "stream",
     "text": [
      "74941.48695783653\n"
     ]
    }
   ],
   "source": [
    "k2 = K2 * (rho_unit**Gamma2/P_unit)\n",
    "print(k2)"
   ]
  },
  {
   "cell_type": "code",
   "execution_count": 16,
   "id": "42ee8345",
   "metadata": {},
   "outputs": [
    {
     "name": "stdout",
     "output_type": "stream",
     "text": [
      "31073.68899483962\n"
     ]
    }
   ],
   "source": [
    "k3 = K3 * (rho_unit**Gamma3/P_unit)\n",
    "print(k3)"
   ]
  },
  {
   "cell_type": "markdown",
   "id": "ab149deb",
   "metadata": {},
   "source": [
    "## Test of equation of state"
   ]
  },
  {
   "cell_type": "code",
   "execution_count": 17,
   "id": "cafaf1ee",
   "metadata": {},
   "outputs": [],
   "source": [
    "# speed of sound for polytrope\n",
    "def cs2(rho, press, eps, K, Gamma):\n",
    "    return Gamma*press / rho / (1. + eps + press/rho)"
   ]
  },
  {
   "cell_type": "code",
   "execution_count": 18,
   "id": "574fdad2",
   "metadata": {},
   "outputs": [
    {
     "name": "stdout",
     "output_type": "stream",
     "text": [
      "0.11589098654582985\n",
      "0.3847548592564837\n",
      "0.690678183575592\n"
     ]
    }
   ],
   "source": [
    "pwp_K = [k0,k1,k2,k3]\n",
    "pwp_Gamma = [GammaCrust, Gamma1, Gamma2, Gamma3]\n",
    "pwp_rho = [0., r0, r1, r2]\n",
    "pwp_eps = [0., 0., 0., 0.]\n",
    "\n",
    "for i in range(1, len(pwp_eps)):\n",
    "    press = pwp_K[i] * pwp_rho[i]**pwp_Gamma[i]\n",
    "    # P = rho eps (Gamma-1)\n",
    "    eps_lower = pwp_eps[i-1] + press / pwp_rho[i] / (pwp_Gamma[i-1] - 1.)\n",
    "    eps_upper =                press / pwp_rho[i] / (pwp_Gamma[i  ] - 1.)\n",
    "    pwp_eps[i] = eps_lower - eps_upper\n",
    "\n",
    "def calc_press(rho):\n",
    "    for i in range(len(pwp_rho)-1,0,-1):\n",
    "        if rho > pwp_rho[i]:\n",
    "            break\n",
    "    return pwp_K[i] * rho**pwp_Gamma[i]\n",
    "\n",
    "def calc_eps(rho):\n",
    "    for i in range(len(pwp_rho)-1,0,-1):\n",
    "        if rho > pwp_rho[i]:\n",
    "            break\n",
    "    press = pwp_K[i] * rho**pwp_Gamma[i]\n",
    "    return press / rho / (pwp_Gamma[i] - 1.) + pwp_eps[i]\n",
    "\n",
    "def calc_cs2(rho):\n",
    "    for i in range(len(pwp_rho)-1,0,-1):\n",
    "        if rho > pwp_rho[i]:\n",
    "            break\n",
    "    press = pwp_K[i] * rho**pwp_Gamma[i]\n",
    "    eps = press / rho / (pwp_Gamma[i] - 1.) + pwp_eps[i]\n",
    "    return cs2(rho, press, eps, pwp_K[i], pwp_Gamma[i])\n",
    "\n",
    "for i in range(1, len(pwp_rho)):\n",
    "    print(sqrt(calc_cs2(pwp_rho[i]*1.0)))\n"
   ]
  },
  {
   "cell_type": "code",
   "execution_count": 33,
   "id": "40265f10",
   "metadata": {},
   "outputs": [],
   "source": [
    "# plot some quantities to check that things are sane\n",
    "\n",
    "import numpy as np\n",
    "import matplotlib as mpl\n",
    "import matplotlib.pyplot as plt\n",
    "\n",
    "x = np.linspace(0.5*pwp_rho[1], 1.50*pwp_rho[3], 1001)\n",
    "data = [sqrt(calc_cs2(rho)) for rho in x]"
   ]
  },
  {
   "cell_type": "code",
   "execution_count": 34,
   "id": "0ed176e2",
   "metadata": {},
   "outputs": [
    {
     "data": {
      "text/plain": [
       "[<matplotlib.lines.Line2D at 0x7f4170249f40>]"
      ]
     },
     "execution_count": 34,
     "metadata": {},
     "output_type": "execute_result"
    },
    {
     "data": {
      "image/png": "[encoded data removed]",
      "text/plain": [
       "<Figure size 640x480 with 1 Axes>"
      ]
     },
     "metadata": {},
     "output_type": "display_data"
    }
   ],
   "source": [
    "plt.plot(x, data)"
   ]
  },
  {
   "cell_type": "code",
   "execution_count": null,
   "id": "838f364a",
   "metadata": {},
   "outputs": [],
   "source": []
  }
 ],
 "metadata": {
  "kernelspec": {
   "display_name": "Python 3 (ipykernel)",
   "language": "python",
   "name": "python3"
  },
  "language_info": {
   "codemirror_mode": {
    "name": "ipython",
    "version": 3
   },
   "file_extension": ".py",
   "mimetype": "text/x-python",
   "name": "python",
   "nbconvert_exporter": "python",
   "pygments_lexer": "ipython3",
   "version": "3.12.4"
  }
 },
 "nbformat": 4,
 "nbformat_minor": 5
}
